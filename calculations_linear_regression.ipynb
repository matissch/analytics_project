{
 "cells": [
  {
   "cell_type": "code",
   "execution_count": 1,
   "metadata": {
    "ExecuteTime": {
     "end_time": "2023-12-11T16:44:16.076390Z",
     "start_time": "2023-12-11T16:44:16.064419Z"
    }
   },
   "outputs": [
    {
     "name": "stderr",
     "output_type": "stream",
     "text": [
      "/opt/anaconda3/lib/python3.9/site-packages/scipy/__init__.py:155: UserWarning: A NumPy version >=1.18.5 and <1.25.0 is required for this version of SciPy (detected version 1.26.2\n",
      "  warnings.warn(f\"A NumPy version >={np_minversion} and <{np_maxversion}\"\n"
     ]
    }
   ],
   "source": [
    "# Libraries\n",
    "import os\n",
    "import numpy as np\n",
    "import pandas as pd\n",
    "import scipy.stats as stats\n",
    "import statsmodels.api as sm\n",
    "import matplotlib.pyplot as plt\n",
    "from sklearn import linear_model\n",
    "import seaborn as sns\n",
    "from sklearn.model_selection import train_test_split\n",
    "import mysql.connector\n",
    "\n",
    "# Ignore warnings\n",
    "import warnings\n",
    "warnings.filterwarnings('ignore')"
   ]
  },
  {
   "cell_type": "code",
   "execution_count": 2,
   "metadata": {
    "ExecuteTime": {
     "start_time": "2023-12-11T16:44:16.074359Z"
    }
   },
   "outputs": [],
   "source": [
    "def get_data(query):\n",
    "    host = os.environ.get(\"MYSQL_HOST\", \"localhost\")\n",
    "    port = os.environ.get(\"MYSQL_PORT\", \"3306\")\n",
    "    dbname = os.environ.get(\"MYSQL_DBNAME\", \"analytics_project\")\n",
    "    user = os.environ.get(\"MYSQL_USER\", \"root\")\n",
    "    password = os.environ.get(\"MYSQL_PASSWORD\", \"\")\n",
    "\n",
    "    try:\n",
    "        conn = mysql.connector.connect( \n",
    "            host=host,\n",
    "            port=port,\n",
    "            user=user,\n",
    "            password=password,\n",
    "            database=dbname\n",
    "        )\n",
    "        if conn.is_connected():\n",
    "            # Create a cursor\n",
    "            cursor = conn.cursor()\n",
    "            \n",
    "            # Execute the query\n",
    "            cursor.execute(query)\n",
    "            \n",
    "            # Fetch the results into a Pandas DataFrame\n",
    "            result = cursor.fetchall()\n",
    "            df = pd.DataFrame(result, columns=cursor.column_names)\n",
    "            return df\n",
    "        else:\n",
    "            print(\"Connection to MySQL database failed.\")\n",
    "    except mysql.connector.Error as err:\n",
    "        print(f\"Error: {err}\")"
   ]
  },
  {
   "cell_type": "code",
   "execution_count": 3,
   "metadata": {
    "ExecuteTime": {
     "start_time": "2023-12-11T16:44:16.075445Z"
    }
   },
   "outputs": [
    {
     "name": "stdout",
     "output_type": "stream",
     "text": [
      "                    canton  count\n",
      "0                   Aargau    917\n",
      "1   Appenzell Ausserrhoden     54\n",
      "2    Appenzell Innerrhoden     24\n",
      "3         Basel-Landschaft    362\n",
      "4              Basel-Stadt    223\n",
      "5               Bern/Berne   1189\n",
      "6                 Freiburg    377\n",
      "7                   Genève    684\n",
      "8                   Glarus     86\n",
      "9      Graubünden/Grigioni    709\n",
      "10                    Jura     71\n",
      "11                  Luzern    707\n",
      "12               Neuchâtel    231\n",
      "13               Nidwalden     81\n",
      "14                Obwalden     69\n",
      "15            Schaffhausen    128\n",
      "16                  Schwyz    246\n",
      "17               Solothurn    310\n",
      "18              St. Gallen    844\n",
      "19                 Thurgau    276\n",
      "20                  Ticino    705\n",
      "21                     Uri    119\n",
      "22           Valais/Wallis    875\n",
      "23                    Vaud   1081\n",
      "24                     Zug    379\n",
      "25                  Zürich   1729\n",
      "     canton abbreviation  popDens  medianIncome  inhabitants  rural\n",
      "0    Aargau           AG    510.0         75391       711232      1\n",
      "1    Aargau           AG    510.0         75402       711232      1\n",
      "2    Aargau           AG    510.0         75402       711232      1\n",
      "3    Aargau           AG    510.0         75392       711232      1\n",
      "4    Aargau           AG    510.0         75398       711232      1\n",
      "..      ...          ...      ...           ...          ...    ...\n",
      "151  Zürich           ZH    951.0         83264      1579967      0\n",
      "152  Zürich           ZH    951.0         83187      1579967      0\n",
      "153  Zürich           ZH    951.0         83247      1579967      0\n",
      "154  Zürich           ZH    951.0         83187      1579967      0\n",
      "155  Zürich           ZH    951.0         83248      1579967      0\n",
      "\n",
      "[156 rows x 6 columns]\n"
     ]
    },
    {
     "data": {
      "text/html": [
       "<div>\n",
       "<style scoped>\n",
       "    .dataframe tbody tr th:only-of-type {\n",
       "        vertical-align: middle;\n",
       "    }\n",
       "\n",
       "    .dataframe tbody tr th {\n",
       "        vertical-align: top;\n",
       "    }\n",
       "\n",
       "    .dataframe thead th {\n",
       "        text-align: right;\n",
       "    }\n",
       "</style>\n",
       "<table border=\"1\" class=\"dataframe\">\n",
       "  <thead>\n",
       "    <tr style=\"text-align: right;\">\n",
       "      <th></th>\n",
       "      <th>canton</th>\n",
       "      <th>abbreviation</th>\n",
       "      <th>popDens</th>\n",
       "      <th>medianIncome</th>\n",
       "      <th>inhabitants</th>\n",
       "      <th>rural</th>\n",
       "      <th>count</th>\n",
       "    </tr>\n",
       "  </thead>\n",
       "  <tbody>\n",
       "    <tr>\n",
       "      <th>0</th>\n",
       "      <td>Aargau</td>\n",
       "      <td>AG</td>\n",
       "      <td>510.0</td>\n",
       "      <td>75391</td>\n",
       "      <td>711232</td>\n",
       "      <td>1</td>\n",
       "      <td>917</td>\n",
       "    </tr>\n",
       "    <tr>\n",
       "      <th>1</th>\n",
       "      <td>Aargau</td>\n",
       "      <td>AG</td>\n",
       "      <td>510.0</td>\n",
       "      <td>75402</td>\n",
       "      <td>711232</td>\n",
       "      <td>1</td>\n",
       "      <td>917</td>\n",
       "    </tr>\n",
       "    <tr>\n",
       "      <th>2</th>\n",
       "      <td>Aargau</td>\n",
       "      <td>AG</td>\n",
       "      <td>510.0</td>\n",
       "      <td>75402</td>\n",
       "      <td>711232</td>\n",
       "      <td>1</td>\n",
       "      <td>917</td>\n",
       "    </tr>\n",
       "    <tr>\n",
       "      <th>3</th>\n",
       "      <td>Aargau</td>\n",
       "      <td>AG</td>\n",
       "      <td>510.0</td>\n",
       "      <td>75392</td>\n",
       "      <td>711232</td>\n",
       "      <td>1</td>\n",
       "      <td>917</td>\n",
       "    </tr>\n",
       "    <tr>\n",
       "      <th>4</th>\n",
       "      <td>Aargau</td>\n",
       "      <td>AG</td>\n",
       "      <td>510.0</td>\n",
       "      <td>75398</td>\n",
       "      <td>711232</td>\n",
       "      <td>1</td>\n",
       "      <td>917</td>\n",
       "    </tr>\n",
       "    <tr>\n",
       "      <th>...</th>\n",
       "      <td>...</td>\n",
       "      <td>...</td>\n",
       "      <td>...</td>\n",
       "      <td>...</td>\n",
       "      <td>...</td>\n",
       "      <td>...</td>\n",
       "      <td>...</td>\n",
       "    </tr>\n",
       "    <tr>\n",
       "      <th>109</th>\n",
       "      <td>Zürich</td>\n",
       "      <td>ZH</td>\n",
       "      <td>951.0</td>\n",
       "      <td>83264</td>\n",
       "      <td>1579967</td>\n",
       "      <td>0</td>\n",
       "      <td>1729</td>\n",
       "    </tr>\n",
       "    <tr>\n",
       "      <th>110</th>\n",
       "      <td>Zürich</td>\n",
       "      <td>ZH</td>\n",
       "      <td>951.0</td>\n",
       "      <td>83187</td>\n",
       "      <td>1579967</td>\n",
       "      <td>0</td>\n",
       "      <td>1729</td>\n",
       "    </tr>\n",
       "    <tr>\n",
       "      <th>111</th>\n",
       "      <td>Zürich</td>\n",
       "      <td>ZH</td>\n",
       "      <td>951.0</td>\n",
       "      <td>83247</td>\n",
       "      <td>1579967</td>\n",
       "      <td>0</td>\n",
       "      <td>1729</td>\n",
       "    </tr>\n",
       "    <tr>\n",
       "      <th>112</th>\n",
       "      <td>Zürich</td>\n",
       "      <td>ZH</td>\n",
       "      <td>951.0</td>\n",
       "      <td>83187</td>\n",
       "      <td>1579967</td>\n",
       "      <td>0</td>\n",
       "      <td>1729</td>\n",
       "    </tr>\n",
       "    <tr>\n",
       "      <th>113</th>\n",
       "      <td>Zürich</td>\n",
       "      <td>ZH</td>\n",
       "      <td>951.0</td>\n",
       "      <td>83248</td>\n",
       "      <td>1579967</td>\n",
       "      <td>0</td>\n",
       "      <td>1729</td>\n",
       "    </tr>\n",
       "  </tbody>\n",
       "</table>\n",
       "<p>114 rows × 7 columns</p>\n",
       "</div>"
      ],
      "text/plain": [
       "     canton abbreviation  popDens  medianIncome  inhabitants  rural  count\n",
       "0    Aargau           AG    510.0         75391       711232      1    917\n",
       "1    Aargau           AG    510.0         75402       711232      1    917\n",
       "2    Aargau           AG    510.0         75402       711232      1    917\n",
       "3    Aargau           AG    510.0         75392       711232      1    917\n",
       "4    Aargau           AG    510.0         75398       711232      1    917\n",
       "..      ...          ...      ...           ...          ...    ...    ...\n",
       "109  Zürich           ZH    951.0         83264      1579967      0   1729\n",
       "110  Zürich           ZH    951.0         83187      1579967      0   1729\n",
       "111  Zürich           ZH    951.0         83247      1579967      0   1729\n",
       "112  Zürich           ZH    951.0         83187      1579967      0   1729\n",
       "113  Zürich           ZH    951.0         83248      1579967      0   1729\n",
       "\n",
       "[114 rows x 7 columns]"
      ]
     },
     "execution_count": 3,
     "metadata": {},
     "output_type": "execute_result"
    }
   ],
   "source": [
    "# Getting charger data from MySQL database with custom query\n",
    "query = \"SELECT canton, COUNT(*) AS count FROM charger_data_with_canton GROUP BY canton ORDER BY canton ASC\"\n",
    "\n",
    "# Get data from MySQL database\n",
    "df_canton_count = get_data(query)\n",
    "df_canton_count.loc[df_canton_count['canton'] == 'Fribourg', 'canton'] = 'Freiburg'\n",
    "\n",
    "query = \"SELECT * FROM canton_data ORDER By canton ASC\"\n",
    "\n",
    "df_canton_data = get_data(query)\n",
    "\n",
    "print(df_canton_count)\n",
    "print(df_canton_data)\n",
    "\n",
    "# Merge dataframes\n",
    "df = pd.merge(df_canton_data, df_canton_count, on='canton')\n",
    "\n",
    "df"
   ]
  },
  {
   "cell_type": "code",
   "execution_count": 4,
   "metadata": {
    "ExecuteTime": {
     "end_time": "2023-12-11T16:44:16.079980Z",
     "start_time": "2023-12-11T16:44:16.079003Z"
    }
   },
   "outputs": [
    {
     "name": "stdout",
     "output_type": "stream",
     "text": [
      "X_train:\n",
      "31      334465\n",
      "67       85214\n",
      "111    1579967\n",
      "108    1579967\n",
      "22      294417\n",
      "Name: inhabitants, dtype: int64 \n",
      "\n",
      "y_train:\n",
      "31      377\n",
      "67      128\n",
      "111    1729\n",
      "108    1729\n",
      "22      362\n",
      "Name: count, dtype: int64\n"
     ]
    }
   ],
   "source": [
    "# Create train and test samples\n",
    "X_train, X_test, y_train, y_test = train_test_split(df['inhabitants'], \n",
    "                                                    df['count'], \n",
    "                                                    test_size=0.20, \n",
    "                                                    random_state=42)\n",
    "# Show X_train\n",
    "print('X_train:')\n",
    "print(X_train.head(), '\\n')\n",
    "\n",
    "# Show y_train\n",
    "print('y_train:')\n",
    "print(y_train.head())"
   ]
  },
  {
   "cell_type": "code",
   "execution_count": 5,
   "metadata": {
    "ExecuteTime": {
     "start_time": "2023-12-11T16:44:16.079309Z"
    }
   },
   "outputs": [
    {
     "name": "stdout",
     "output_type": "stream",
     "text": [
      "Linear regression result:\n",
      "Intercept with y-axis (alpha):            57.44\n",
      "Slope of regression line (beta):          0.001\n",
      "p-value:                                  0.0000\n",
      "R-squared (coefficient of determination): 0.9512\n"
     ]
    }
   ],
   "source": [
    "# Fit the regression model\n",
    "slope, intercept, r, p, std_err = stats.linregress(X_train, y_train)\n",
    "\n",
    "# Print results of the regression model\n",
    "print('Linear regression result:')\n",
    "print(f'Intercept with y-axis (alpha):            {intercept:.2f}')\n",
    "print(f'Slope of regression line (beta):          {slope:.3f}')\n",
    "print(f'p-value:                                  {p:.4f}')\n",
    "print(f'R-squared (coefficient of determination): {r**2:.4f}')"
   ]
  },
  {
   "cell_type": "code",
   "execution_count": 6,
   "metadata": {
    "ExecuteTime": {
     "start_time": "2023-12-11T16:44:16.079935Z"
    }
   },
   "outputs": [
    {
     "data": {
      "image/png": "[encoded data removed]",
      "text/plain": [
       "<Figure size 600x400 with 1 Axes>"
      ]
     },
     "metadata": {},
     "output_type": "display_data"
    }
   ],
   "source": [
    "# Function to calculate model predictions\n",
    "def myfunc(x):\n",
    "    return slope * x + intercept\n",
    "\n",
    "# Apply myfunc() to x, i.e. make predictions \n",
    "mymodel = pd.Series(map(myfunc, X_train))\n",
    "\n",
    "# Scatterplot with regression line\n",
    "plt.figure(figsize=(6,4))\n",
    "plt.scatter(X_train, y_train, s=10, color='green')\n",
    "plt.plot(X_train, mymodel, color='darkred', linestyle='dashed')\n",
    "plt.title('Simple Linear Regression')\n",
    "plt.xlabel('inhabitants')\n",
    "plt.ylabel('count of charging stations')\n",
    "\n",
    "plt.show()"
   ]
  },
  {
   "cell_type": "markdown",
   "metadata": {},
   "source": [
    "# Interpretation\n",
    "So if we look at the given values of the regression, we can see, that we have a p-value of 0.0000 which for us means, that our statistics are statistically relevant. Also our r-squared value is 0.9194, which means, that 91.94% of all chargingstations can be explained through the amount of inhabitant in a canton. Our beta is 0.001 which can interpreted as: If there is one more inhabitant, there would have to be 0.001 more chargingstation.\n"
   ]
  },
  {
   "cell_type": "code",
   "execution_count": 7,
   "metadata": {
    "ExecuteTime": {
     "end_time": "2023-12-11T16:44:16.084433Z",
     "start_time": "2023-12-11T16:44:16.081385Z"
    }
   },
   "outputs": [
    {
     "name": "stdout",
     "output_type": "stream",
     "text": [
      "0      432.846797\n",
      "1      153.081561\n",
      "2     1830.827794\n",
      "3     1830.827794\n",
      "4      387.895972\n",
      "         ...     \n",
      "86     204.656931\n",
      "87      75.861054\n",
      "88     382.545378\n",
      "89     534.298188\n",
      "90     204.656931\n",
      "Length: 91, dtype: float64\n",
      "31      377\n",
      "67      128\n",
      "111    1729\n",
      "108    1729\n",
      "22      362\n",
      "       ... \n",
      "106     379\n",
      "14       24\n",
      "92      276\n",
      "51      707\n",
      "102     379\n",
      "Name: count, Length: 91, dtype: int64\n",
      "0             NaN\n",
      "1      763.918439\n",
      "2     -913.827794\n",
      "3     -913.827794\n",
      "4             NaN\n",
      "          ...    \n",
      "108           NaN\n",
      "109           NaN\n",
      "110           NaN\n",
      "111           NaN\n",
      "113           NaN\n",
      "Length: 110, dtype: float64\n",
      "1st Predicted price in dataset: 432.85\n",
      "1st Observed price in dataset: 377.00\n",
      "1st Residual price in dataset: nan\n"
     ]
    }
   ],
   "source": [
    "# Calculate model residuals for train data\n",
    "print(mymodel)\n",
    "print(y_train)\n",
    "residuals = y_train - mymodel\n",
    "print(residuals)\n",
    "\n",
    "# Check the first residual value in our data set\n",
    "print(f'1st Predicted price in dataset: {mymodel.iloc[0]:.2f}')\n",
    "print(f'1st Observed price in dataset: {y_train.iloc[0]:.2f}')\n",
    "print(f'1st Residual price in dataset: {residuals.iloc[0]:.2f}')"
   ]
  },
  {
   "cell_type": "code",
   "execution_count": 8,
   "metadata": {
    "ExecuteTime": {
     "start_time": "2023-12-11T16:44:16.082834Z"
    }
   },
   "outputs": [
    {
     "data": {
      "image/png": "[encoded data removed]",
      "text/plain": [
       "<Figure size 700x400 with 1 Axes>"
      ]
     },
     "metadata": {},
     "output_type": "display_data"
    }
   ],
   "source": [
    "# Plot histogram of residuals\n",
    "fig = plt.figure( figsize=(7,4))\n",
    "n, bins, patches = plt.hist(x=residuals, \n",
    "                            bins=5, \n",
    "                            color='blue',\n",
    "                            alpha=0.5\n",
    "                   )\n",
    "\n",
    "# Set title and labels\n",
    "plt.xlabel('residuals', fontsize=10, labelpad=10)\n",
    "plt.ylabel('frequency', fontsize=10, labelpad=10)\n",
    "plt.title('Histogram of model residuals', fontsize=12, pad=10)\n",
    "\n",
    "# Show plot\n",
    "plt.show()"
   ]
  },
  {
   "cell_type": "code",
   "execution_count": 9,
   "metadata": {
    "ExecuteTime": {
     "start_time": "2023-12-11T16:44:16.084359Z"
    }
   },
   "outputs": [
    {
     "data": {
      "text/plain": [
       "<Axes: >"
      ]
     },
     "execution_count": 9,
     "metadata": {},
     "output_type": "execute_result"
    },
    {
     "data": {
      "image/png": "[encoded data removed]",
      "text/plain": [
       "<Figure size 800x120 with 1 Axes>"
      ]
     },
     "metadata": {},
     "output_type": "display_data"
    }
   ],
   "source": [
    "plt.figure(figsize=(8,1.2))\n",
    "plt.ticklabel_format(style='plain')\n",
    "sns.boxplot(x=residuals, color=\"greenyellow\")"
   ]
  },
  {
   "cell_type": "code",
   "execution_count": 10,
   "metadata": {
    "ExecuteTime": {
     "start_time": "2023-12-11T16:44:16.085834Z"
    }
   },
   "outputs": [
    {
     "name": "stdout",
     "output_type": "stream",
     "text": [
      "Observed count of chargers: 310.0, Predicted count of chargers: 374.4\n",
      "Observed count of chargers: 917.0, Predicted count of chargers: 855.7\n",
      "Observed count of chargers: 86.0, Predicted count of chargers: 104.0\n",
      "Observed count of chargers: 128.0, Predicted count of chargers: 153.1\n",
      "Observed count of chargers: 54.0, Predicted count of chargers: 120.0\n",
      "Observed count of chargers: 71.0, Predicted count of chargers: 140.3\n",
      "Observed count of chargers: 128.0, Predicted count of chargers: 153.1\n",
      "Observed count of chargers: 128.0, Predicted count of chargers: 153.1\n",
      "Observed count of chargers: 71.0, Predicted count of chargers: 140.3\n",
      "Observed count of chargers: 54.0, Predicted count of chargers: 120.0\n",
      "Observed count of chargers: 119.0, Predicted count of chargers: 99.3\n",
      "Observed count of chargers: 86.0, Predicted count of chargers: 104.0\n",
      "Observed count of chargers: 310.0, Predicted count of chargers: 374.4\n",
      "Observed count of chargers: 1729.0, Predicted count of chargers: 1830.8\n",
      "Observed count of chargers: 362.0, Predicted count of chargers: 387.9\n",
      "Observed count of chargers: 917.0, Predicted count of chargers: 855.7\n",
      "Observed count of chargers: 246.0, Predicted count of chargers: 242.5\n",
      "Observed count of chargers: 223.0, Predicted count of chargers: 278.3\n",
      "Observed count of chargers: 310.0, Predicted count of chargers: 374.4\n",
      "Observed count of chargers: 707.0, Predicted count of chargers: 534.3\n",
      "Observed count of chargers: 379.0, Predicted count of chargers: 204.7\n",
      "Observed count of chargers: 276.0, Predicted count of chargers: 382.5\n",
      "Observed count of chargers: 24.0, Predicted count of chargers: 75.9\n"
     ]
    }
   ],
   "source": [
    "# Create model predictions for test data\n",
    "predicted = myfunc(X_test)\n",
    "predicted.round(1)\n",
    "\n",
    "# Get the minimum length of y_test and predicted\n",
    "min_length = min(len(y_test), len(predicted))\n",
    "\n",
    "# Compare the observed prices with the predicted prices\n",
    "for i in range(min_length):\n",
    "    print(f'Observed count of chargers: {y_test.iloc[i]:.1f}, Predicted count of chargers: {predicted.iloc[i]:.1f}')"
   ]
  },
  {
   "cell_type": "markdown",
   "metadata": {},
   "source": [
    "# Now we want to check how the regressoin looks without the urban cantons\n",
    "We define urban as cantons with a popDens higher than 900"
   ]
  },
  {
   "cell_type": "code",
   "execution_count": 11,
   "metadata": {
    "ExecuteTime": {
     "start_time": "2023-12-11T16:44:16.087100Z"
    }
   },
   "outputs": [
    {
     "data": {
      "text/html": [
       "<div>\n",
       "<style scoped>\n",
       "    .dataframe tbody tr th:only-of-type {\n",
       "        vertical-align: middle;\n",
       "    }\n",
       "\n",
       "    .dataframe tbody tr th {\n",
       "        vertical-align: top;\n",
       "    }\n",
       "\n",
       "    .dataframe thead th {\n",
       "        text-align: right;\n",
       "    }\n",
       "</style>\n",
       "<table border=\"1\" class=\"dataframe\">\n",
       "  <thead>\n",
       "    <tr style=\"text-align: right;\">\n",
       "      <th></th>\n",
       "      <th>canton</th>\n",
       "      <th>abbreviation</th>\n",
       "      <th>popDens</th>\n",
       "      <th>medianIncome</th>\n",
       "      <th>inhabitants</th>\n",
       "      <th>rural</th>\n",
       "      <th>count</th>\n",
       "    </tr>\n",
       "  </thead>\n",
       "  <tbody>\n",
       "    <tr>\n",
       "      <th>0</th>\n",
       "      <td>Aargau</td>\n",
       "      <td>AG</td>\n",
       "      <td>510.0</td>\n",
       "      <td>75392</td>\n",
       "      <td>711232</td>\n",
       "      <td>1</td>\n",
       "      <td>917</td>\n",
       "    </tr>\n",
       "    <tr>\n",
       "      <th>1</th>\n",
       "      <td>Aargau</td>\n",
       "      <td>AG</td>\n",
       "      <td>510.0</td>\n",
       "      <td>75398</td>\n",
       "      <td>711232</td>\n",
       "      <td>1</td>\n",
       "      <td>917</td>\n",
       "    </tr>\n",
       "    <tr>\n",
       "      <th>2</th>\n",
       "      <td>Aargau</td>\n",
       "      <td>AG</td>\n",
       "      <td>510.0</td>\n",
       "      <td>75402</td>\n",
       "      <td>711232</td>\n",
       "      <td>1</td>\n",
       "      <td>917</td>\n",
       "    </tr>\n",
       "    <tr>\n",
       "      <th>3</th>\n",
       "      <td>Aargau</td>\n",
       "      <td>AG</td>\n",
       "      <td>510.0</td>\n",
       "      <td>75402</td>\n",
       "      <td>711232</td>\n",
       "      <td>1</td>\n",
       "      <td>917</td>\n",
       "    </tr>\n",
       "    <tr>\n",
       "      <th>4</th>\n",
       "      <td>Aargau</td>\n",
       "      <td>AG</td>\n",
       "      <td>510.0</td>\n",
       "      <td>75391</td>\n",
       "      <td>711232</td>\n",
       "      <td>1</td>\n",
       "      <td>917</td>\n",
       "    </tr>\n",
       "    <tr>\n",
       "      <th>...</th>\n",
       "      <td>...</td>\n",
       "      <td>...</td>\n",
       "      <td>...</td>\n",
       "      <td>...</td>\n",
       "      <td>...</td>\n",
       "      <td>...</td>\n",
       "      <td>...</td>\n",
       "    </tr>\n",
       "    <tr>\n",
       "      <th>97</th>\n",
       "      <td>Zug</td>\n",
       "      <td>ZG</td>\n",
       "      <td>633.0</td>\n",
       "      <td>84981</td>\n",
       "      <td>131164</td>\n",
       "      <td>1</td>\n",
       "      <td>379</td>\n",
       "    </tr>\n",
       "    <tr>\n",
       "      <th>98</th>\n",
       "      <td>Zug</td>\n",
       "      <td>ZG</td>\n",
       "      <td>633.0</td>\n",
       "      <td>84998</td>\n",
       "      <td>131164</td>\n",
       "      <td>1</td>\n",
       "      <td>379</td>\n",
       "    </tr>\n",
       "    <tr>\n",
       "      <th>99</th>\n",
       "      <td>Zug</td>\n",
       "      <td>ZG</td>\n",
       "      <td>633.0</td>\n",
       "      <td>84981</td>\n",
       "      <td>131164</td>\n",
       "      <td>1</td>\n",
       "      <td>379</td>\n",
       "    </tr>\n",
       "    <tr>\n",
       "      <th>100</th>\n",
       "      <td>Zug</td>\n",
       "      <td>ZG</td>\n",
       "      <td>633.0</td>\n",
       "      <td>85000</td>\n",
       "      <td>131164</td>\n",
       "      <td>1</td>\n",
       "      <td>379</td>\n",
       "    </tr>\n",
       "    <tr>\n",
       "      <th>101</th>\n",
       "      <td>Zug</td>\n",
       "      <td>ZG</td>\n",
       "      <td>633.0</td>\n",
       "      <td>85000</td>\n",
       "      <td>131164</td>\n",
       "      <td>1</td>\n",
       "      <td>379</td>\n",
       "    </tr>\n",
       "  </tbody>\n",
       "</table>\n",
       "<p>102 rows × 7 columns</p>\n",
       "</div>"
      ],
      "text/plain": [
       "     canton abbreviation  popDens  medianIncome  inhabitants  rural  count\n",
       "0    Aargau           AG    510.0         75392       711232      1    917\n",
       "1    Aargau           AG    510.0         75398       711232      1    917\n",
       "2    Aargau           AG    510.0         75402       711232      1    917\n",
       "3    Aargau           AG    510.0         75402       711232      1    917\n",
       "4    Aargau           AG    510.0         75391       711232      1    917\n",
       "..      ...          ...      ...           ...          ...    ...    ...\n",
       "97      Zug           ZG    633.0         84981       131164      1    379\n",
       "98      Zug           ZG    633.0         84998       131164      1    379\n",
       "99      Zug           ZG    633.0         84981       131164      1    379\n",
       "100     Zug           ZG    633.0         85000       131164      1    379\n",
       "101     Zug           ZG    633.0         85000       131164      1    379\n",
       "\n",
       "[102 rows x 7 columns]"
      ]
     },
     "execution_count": 11,
     "metadata": {},
     "output_type": "execute_result"
    }
   ],
   "source": [
    "# Write query that gets canton_data where rural is true\n",
    "query = \"SELECT * FROM canton_data WHERE rural = TRUE ORDER BY canton ASC\"\n",
    "\n",
    "df_canton_data = get_data(query)\n",
    "\n",
    "# Merge dataframes\n",
    "df_rural = pd.merge(df_canton_data, df_canton_count, on='canton')\n",
    "\n",
    "df_rural"
   ]
  },
  {
   "cell_type": "code",
   "execution_count": 12,
   "metadata": {
    "ExecuteTime": {
     "start_time": "2023-12-11T16:44:16.087915Z"
    }
   },
   "outputs": [
    {
     "name": "stdout",
     "output_type": "stream",
     "text": [
      "X_train:\n",
      "53     44420\n",
      "22    294417\n",
      "68    164920\n",
      "44    424851\n",
      "98    131164\n",
      "Name: inhabitants, dtype: int64 \n",
      "\n",
      "y_train:\n",
      "53     81\n",
      "22    362\n",
      "68    246\n",
      "44    707\n",
      "98    379\n",
      "Name: count, dtype: int64\n"
     ]
    }
   ],
   "source": [
    "# Create train and test samples\n",
    "X_train, X_test, y_train, y_test = train_test_split(df_rural['inhabitants'], \n",
    "                                                    df_rural['count'], \n",
    "                                                    test_size=0.20, \n",
    "                                                    random_state=42)\n",
    "# Show X_train\n",
    "print('X_train:')\n",
    "print(X_train.head(), '\\n')\n",
    "\n",
    "# Show y_train\n",
    "print('y_train:')\n",
    "print(y_train.head())"
   ]
  },
  {
   "cell_type": "code",
   "execution_count": 13,
   "metadata": {
    "ExecuteTime": {
     "start_time": "2023-12-11T16:44:16.088882Z"
    }
   },
   "outputs": [
    {
     "name": "stdout",
     "output_type": "stream",
     "text": [
      "Linear regression result:\n",
      "Intercept with y-axis (alpha):            14.83\n",
      "Slope of regression line (beta):          0.001\n",
      "p-value:                                  0.0000\n",
      "R-squared (coefficient of determination): 0.9154\n"
     ]
    }
   ],
   "source": [
    "# Fit the regression model\n",
    "slope, intercept, r, p, std_err = stats.linregress(X_train, y_train)\n",
    "\n",
    "# Print results of the regression model\n",
    "print('Linear regression result:')\n",
    "print(f'Intercept with y-axis (alpha):            {intercept:.2f}')\n",
    "print(f'Slope of regression line (beta):          {slope:.3f}')\n",
    "print(f'p-value:                                  {p:.4f}')\n",
    "print(f'R-squared (coefficient of determination): {r**2:.4f}')"
   ]
  },
  {
   "cell_type": "code",
   "execution_count": 14,
   "metadata": {
    "ExecuteTime": {
     "start_time": "2023-12-11T16:44:16.089829Z"
    }
   },
   "outputs": [
    {
     "data": {
      "image/png": "[encoded data removed]",
      "text/plain": [
       "<Figure size 600x400 with 1 Axes>"
      ]
     },
     "metadata": {},
     "output_type": "display_data"
    }
   ],
   "source": [
    "# Function to calculate model predictions\n",
    "def myfunc(x):\n",
    "    return slope * x + intercept\n",
    "\n",
    "# Apply myfunc() to x, i.e. make predictions \n",
    "mymodel = pd.Series(map(myfunc, X_train))\n",
    "\n",
    "# Scatterplot with regression line\n",
    "plt.figure(figsize=(6,4))\n",
    "plt.scatter(X_train, y_train, s=10, color='green')\n",
    "plt.plot(X_train, mymodel, color='darkred', linestyle='dashed')\n",
    "plt.title('Simple Linear Regression')\n",
    "plt.xlabel('count of charging stations')\n",
    "plt.ylabel('inhabitants per canton')\n",
    "\n",
    "plt.show()"
   ]
  },
  {
   "cell_type": "code",
   "execution_count": 15,
   "metadata": {
    "ExecuteTime": {
     "start_time": "2023-12-11T16:44:16.090888Z"
    }
   },
   "outputs": [
    {
     "name": "stdout",
     "output_type": "stream",
     "text": [
      "0      73.752672\n",
      "1     405.392409\n",
      "2     233.604944\n",
      "3     578.422876\n",
      "4     188.825082\n",
      "         ...    \n",
      "76    127.868967\n",
      "77    233.604944\n",
      "78     36.603269\n",
      "79     64.330011\n",
      "80     73.752672\n",
      "Length: 81, dtype: float64\n",
      "53     81\n",
      "22    362\n",
      "68    246\n",
      "44    707\n",
      "98    379\n",
      "     ... \n",
      "60    128\n",
      "71    246\n",
      "14     24\n",
      "92    119\n",
      "51     81\n",
      "Name: count, Length: 81, dtype: int64\n",
      "0             NaN\n",
      "1      763.918439\n",
      "2     -913.827794\n",
      "3     -913.827794\n",
      "4             NaN\n",
      "          ...    \n",
      "108           NaN\n",
      "109           NaN\n",
      "110           NaN\n",
      "111           NaN\n",
      "113           NaN\n",
      "Length: 110, dtype: float64\n",
      "1st Predicted price in dataset: 73.75\n",
      "1st Observed price in dataset: 81.00\n",
      "1st Residual price in dataset: nan\n"
     ]
    },
    {
     "data": {
      "text/plain": [
       "0             NaN\n",
       "1      763.918439\n",
       "2     -913.827794\n",
       "3     -913.827794\n",
       "4             NaN\n",
       "          ...    \n",
       "108           NaN\n",
       "109           NaN\n",
       "110           NaN\n",
       "111           NaN\n",
       "113           NaN\n",
       "Length: 110, dtype: float64"
      ]
     },
     "execution_count": 15,
     "metadata": {},
     "output_type": "execute_result"
    }
   ],
   "source": [
    "# Calculate model residuals for train data\n",
    "print(mymodel)\n",
    "print(y_train)\n",
    "residuals_rural = y_train - mymodel\n",
    "print(residuals)\n",
    "\n",
    "# Check the first residual value in our data set\n",
    "print(f'1st Predicted price in dataset: {mymodel.iloc[0]:.2f}')\n",
    "print(f'1st Observed price in dataset: {y_train.iloc[0]:.2f}')\n",
    "print(f'1st Residual price in dataset: {residuals.iloc[0]:.2f}')\n",
    "residuals"
   ]
  },
  {
   "cell_type": "code",
   "execution_count": 16,
   "metadata": {
    "ExecuteTime": {
     "end_time": "2023-12-11T16:44:16.092648Z",
     "start_time": "2023-12-11T16:44:16.091907Z"
    }
   },
   "outputs": [
    {
     "data": {
      "image/png": "[encoded data removed]",
      "text/plain": [
       "<Figure size 700x400 with 1 Axes>"
      ]
     },
     "metadata": {},
     "output_type": "display_data"
    }
   ],
   "source": [
    "# Plot histogram of residuals\n",
    "fig = plt.figure( figsize=(7,4))\n",
    "n, bins, patches = plt.hist(x=residuals, \n",
    "                            bins=5, \n",
    "                            color='blue',\n",
    "                            alpha=0.5\n",
    "                   )\n",
    "\n",
    "# Set title and labels\n",
    "plt.xlabel('residuals', fontsize=10, labelpad=10)\n",
    "plt.ylabel('frequency', fontsize=10, labelpad=10)\n",
    "plt.title('Histogram of model residuals', fontsize=12, pad=10)\n",
    "\n",
    "# Show plot\n",
    "plt.show()"
   ]
  },
  {
   "cell_type": "code",
   "execution_count": 17,
   "metadata": {
    "ExecuteTime": {
     "end_time": "2023-12-11T16:44:16.093041Z",
     "start_time": "2023-12-11T16:44:16.092922Z"
    }
   },
   "outputs": [
    {
     "name": "stdout",
     "output_type": "stream",
     "text": [
      "Observed count of chargers: 86.0, Predicted count of chargers: 69.8\n",
      "Observed count of chargers: 246.0, Predicted count of chargers: 233.6\n",
      "Observed count of chargers: 128.0, Predicted count of chargers: 127.9\n",
      "Observed count of chargers: 707.0, Predicted count of chargers: 578.4\n",
      "Observed count of chargers: 707.0, Predicted count of chargers: 578.4\n",
      "Observed count of chargers: 71.0, Predicted count of chargers: 112.8\n",
      "Observed count of chargers: 119.0, Predicted count of chargers: 64.3\n",
      "Observed count of chargers: 707.0, Predicted count of chargers: 578.4\n",
      "Observed count of chargers: 54.0, Predicted count of chargers: 88.8\n",
      "Observed count of chargers: 917.0, Predicted count of chargers: 958.3\n",
      "Observed count of chargers: 362.0, Predicted count of chargers: 405.4\n",
      "Observed count of chargers: 86.0, Predicted count of chargers: 69.8\n",
      "Observed count of chargers: 379.0, Predicted count of chargers: 188.8\n",
      "Observed count of chargers: 276.0, Predicted count of chargers: 399.1\n",
      "Observed count of chargers: 310.0, Predicted count of chargers: 389.5\n",
      "Observed count of chargers: 917.0, Predicted count of chargers: 958.3\n",
      "Observed count of chargers: 844.0, Predicted count of chargers: 712.6\n",
      "Observed count of chargers: 86.0, Predicted count of chargers: 69.8\n",
      "Observed count of chargers: 24.0, Predicted count of chargers: 36.6\n",
      "Observed count of chargers: 377.0, Predicted count of chargers: 458.5\n",
      "Observed count of chargers: 379.0, Predicted count of chargers: 188.8\n"
     ]
    }
   ],
   "source": [
    "# Create model predictions for test data\n",
    "predicted = myfunc(X_test)\n",
    "predicted.round(1)\n",
    "\n",
    "# Get the minimum length of y_test and predicted\n",
    "min_length = min(len(y_test), len(predicted))\n",
    "\n",
    "# Compare the observed prices with the predicted prices\n",
    "for i in range(min_length):\n",
    "    print(f'Observed count of chargers: {y_test.iloc[i]:.1f}, Predicted count of chargers: {predicted.iloc[i]:.1f}')"
   ]
  },
  {
   "cell_type": "code",
   "execution_count": 18,
   "metadata": {
    "ExecuteTime": {
     "start_time": "2023-12-11T16:44:16.094041Z"
    }
   },
   "outputs": [
    {
     "data": {
      "text/plain": [
       "<Axes: >"
      ]
     },
     "execution_count": 18,
     "metadata": {},
     "output_type": "execute_result"
    },
    {
     "data": {
      "image/png": "[encoded data removed]",
      "text/plain": [
       "<Figure size 800x120 with 1 Axes>"
      ]
     },
     "metadata": {},
     "output_type": "display_data"
    }
   ],
   "source": [
    "plt.figure(figsize=(8,1.2))\n",
    "plt.ticklabel_format(style='plain')\n",
    "sns.boxplot(x=residuals_rural, color=\"greenyellow\")"
   ]
  }
 ],
 "metadata": {
  "kernelspec": {
   "display_name": "Python 3",
   "language": "python",
   "name": "python3"
  },
  "language_info": {
   "codemirror_mode": {
    "name": "ipython",
    "version": 3
   },
   "file_extension": ".py",
   "mimetype": "text/x-python",
   "name": "python",
   "nbconvert_exporter": "python",
   "pygments_lexer": "ipython3",
   "version": "3.10.8"
  }
 },
 "nbformat": 4,
 "nbformat_minor": 2
}
