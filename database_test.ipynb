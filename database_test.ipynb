{
 "cells": [
  {
   "cell_type": "markdown",
   "metadata": {},
   "source": [
    "## This is just a Test and can be ignored. It will be deleted in the future"
   ]
  },
  {
   "cell_type": "code",
   "execution_count": 7,
   "metadata": {},
   "outputs": [
    {
     "name": "stdout",
     "output_type": "stream",
     "text": [
      "Query result:\n",
      "   col1 col2\n",
      "0     1    w\n"
     ]
    }
   ],
   "source": [
    "import os\n",
    "import mysql.connector\n",
    "import pandas as pd\n",
    "\n",
    "# Set your environment variables or provide them directly in the code\n",
    "host = os.environ.get(\"MYSQL_HOST\", \"localhost\")\n",
    "port = os.environ.get(\"MYSQL_PORT\", \"3306\")\n",
    "dbname = os.environ.get(\"MYSQL_DBNAME\", \"test\")\n",
    "user = os.environ.get(\"MYSQL_USER\", \"root\")\n",
    "password = os.environ.get(\"MYSQL_PASSWORD\", \"\")\n",
    "\n",
    "try:\n",
    "    conn = mysql.connector.connect(\n",
    "        host=host,\n",
    "        port=port,\n",
    "        user=user,\n",
    "        password=password,\n",
    "        database=dbname\n",
    "    )\n",
    "    if conn.is_connected():\n",
    "        # Create a cursor\n",
    "        cursor = conn.cursor()\n",
    "        \n",
    "        # Define your SELECT query\n",
    "        query = \"SELECT * FROM test_table\"\n",
    "        \n",
    "        # Execute the query\n",
    "        cursor.execute(query)\n",
    "        \n",
    "        # Fetch the results into a Pandas DataFrame\n",
    "        result = cursor.fetchall()\n",
    "        df = pd.DataFrame(result, columns=cursor.column_names)\n",
    "        \n",
    "        print(\"Query result:\")\n",
    "        print(df)\n",
    "    else:\n",
    "        print(\"Connection to MySQL database failed.\")\n",
    "except mysql.connector.Error as err:\n",
    "    print(f\"Error: {err}\")\n"
   ]
  }
 ],
 "metadata": {
  "kernelspec": {
   "display_name": "Python 3",
   "language": "python",
   "name": "python3"
  },
  "language_info": {
   "codemirror_mode": {
    "name": "ipython",
    "version": 3
   },
   "file_extension": ".py",
   "mimetype": "text/x-python",
   "name": "python",
   "nbconvert_exporter": "python",
   "pygments_lexer": "ipython3",
   "version": "3.10.8"
  }
 },
 "nbformat": 4,
 "nbformat_minor": 2
}
