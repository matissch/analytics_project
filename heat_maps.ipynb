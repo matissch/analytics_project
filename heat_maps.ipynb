{
 "cells": [
  {
   "cell_type": "code",
   "execution_count": 1,
   "metadata": {},
   "outputs": [],
   "source": [
    "import folium\n",
    "from folium import plugins\n",
    "import os\n",
    "import mysql.connector\n",
    "import pandas as pd\n"
   ]
  },
  {
   "cell_type": "code",
   "execution_count": 2,
   "metadata": {},
   "outputs": [],
   "source": [
    "# get data from database lat lon chargers geocoded\n",
    "\n",
    "\n",
    "# Fetches all data form the database regarding the charger geodata\n",
    "def get_charger_geocoded():\n",
    "    # Set your environment variables or provide them directly in the code\n",
    "    host = os.environ.get(\"MYSQL_HOST\", \"localhost\")\n",
    "    port = os.environ.get(\"MYSQL_PORT\", \"3306\")\n",
    "    dbname = os.environ.get(\"MYSQL_DBNAME\", \"test\")\n",
    "    user = os.environ.get(\"MYSQL_USER\", \"root\")\n",
    "    password = os.environ.get(\"MYSQL_PASSWORD\", \"\")\n",
    "\n",
    "    try:\n",
    "        conn = mysql.connector.connect(\n",
    "            host=host,\n",
    "            port=port,\n",
    "            user=user,\n",
    "            password=password,\n",
    "            database=dbname\n",
    "        )\n",
    "        if conn.is_connected():\n",
    "            # Create a cursor\n",
    "            cursor = conn.cursor()\n",
    "            \n",
    "            # Define your SELECT query\n",
    "            query = \"SELECT * FROM charger_data_geocoded\"\n",
    "            \n",
    "            # Execute the query\n",
    "            cursor.execute(query)\n",
    "            \n",
    "            # Fetch the results into a Pandas DataFrame\n",
    "            result = cursor.fetchall()\n",
    "            result_df = pd.DataFrame(result, columns=cursor.column_names)\n",
    "\n",
    "            return result_df\n",
    "        else:\n",
    "            print(\"Connection to MySQL database failed.\")\n",
    "    except mysql.connector.Error as err:\n",
    "        print(f\"Error: {err}\")"
   ]
  },
  {
   "cell_type": "code",
   "execution_count": 3,
   "metadata": {},
   "outputs": [],
   "source": [
    "df = get_charger_geocoded()\n",
    "\n",
    "heatmap = folium.Map(location=[46.75, 8.25], zoom_start=8)\n",
    "heat_data = list(zip(df[\"lat\"], df[\"lon\"]))\n",
    "folium.plugins.HeatMap(heat_data).add_to(heatmap)\n",
    "\n",
    "heatmap\n",
    "\n",
    "heatmap.save(\"Results/chargers_heatmap.html\")"
   ]
  }
 ],
 "metadata": {
  "kernelspec": {
   "display_name": "Python 3",
   "language": "python",
   "name": "python3"
  },
  "language_info": {
   "codemirror_mode": {
    "name": "ipython",
    "version": 3
   },
   "file_extension": ".py",
   "mimetype": "text/x-python",
   "name": "python",
   "nbconvert_exporter": "python",
   "pygments_lexer": "ipython3",
   "version": "3.10.8"
  }
 },
 "nbformat": 4,
 "nbformat_minor": 2
}
