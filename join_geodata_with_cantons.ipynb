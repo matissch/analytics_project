{
 "cells": [
  {
   "cell_type": "code",
   "execution_count": 3,
   "metadata": {},
   "outputs": [
    {
     "data": {
      "text/plain": [
       "[{'id': 1, 'name': 'Zürich'},\n",
       " {'id': 2, 'name': 'Bern/Berne'},\n",
       " {'id': 3, 'name': 'Uri'},\n",
       " {'id': 4, 'name': 'Schwyz'},\n",
       " {'id': 5, 'name': 'Glarus'},\n",
       " {'id': 6, 'name': 'Zug'},\n",
       " {'id': 7, 'name': 'Fribourg'},\n",
       " {'id': 8, 'name': 'Solothurn'},\n",
       " {'id': 9, 'name': 'Basel-Stadt'},\n",
       " {'id': 10, 'name': 'Basel-Landschaft'},\n",
       " {'id': 11, 'name': 'Schaffhausen'},\n",
       " {'id': 12, 'name': 'Appenzell Ausserrhoden'},\n",
       " {'id': 13, 'name': 'Appenzell Innerrhoden'},\n",
       " {'id': 14, 'name': 'St. Gallen'},\n",
       " {'id': 15, 'name': 'Graubünden/Grigioni'},\n",
       " {'id': 16, 'name': 'Aargau'},\n",
       " {'id': 17, 'name': 'Thurgau'},\n",
       " {'id': 18, 'name': 'Ticino'},\n",
       " {'id': 19, 'name': 'Vaud'},\n",
       " {'id': 20, 'name': 'Valais/Wallis'},\n",
       " {'id': 21, 'name': 'Neuchâtel'},\n",
       " {'id': 22, 'name': 'Genève'},\n",
       " {'id': 23, 'name': 'Jura'},\n",
       " {'id': 24, 'name': 'Luzern'},\n",
       " {'id': 25, 'name': 'Obwalden'},\n",
       " {'id': 26, 'name': 'Nidwalden'}]"
      ]
     },
     "execution_count": 3,
     "metadata": {},
     "output_type": "execute_result"
    }
   ],
   "source": [
    "import fiona\n",
    "from shapely.geometry import shape, mapping, MultiPolygon\n",
    "from shapely.ops import cascaded_union\n",
    "\n",
    "\n",
    "fp = 'cantons.geojson'\n",
    "\n",
    "# Each canton maps to itself\n",
    "canton_mapping = {\n",
    "    'Zürich': 'Zürich',\n",
    "    'Bern/Berne': 'Bern/Berne',\n",
    "    'Uri': 'Uri',\n",
    "    'Schwyz': 'Schwyz',\n",
    "    'Glarus': 'Glarus',\n",
    "    'Zug': 'Zug',\n",
    "    'Fribourg': 'Fribourg',\n",
    "    'Solothurn': 'Solothurn',\n",
    "    'Basel-Stadt': 'Basel-Stadt',\n",
    "    'Basel-Landschaft': 'Basel-Landschaft',\n",
    "    'Schaffhausen': 'Schaffhausen',\n",
    "    'Appenzell Ausserrhoden': 'Appenzell Ausserrhoden',\n",
    "    'Appenzell Innerrhoden': 'Appenzell Innerrhoden',\n",
    "    'St. Gallen': 'St. Gallen',\n",
    "    'Graubünden/Grigioni': 'Graubünden/Grigioni',\n",
    "    'Aargau': 'Aargau',\n",
    "    'Thurgau': 'Thurgau',\n",
    "    'Ticino': 'Ticino',\n",
    "    'Vaud': 'Vaud',\n",
    "    'Valais/Wallis': 'Valais/Wallis',\n",
    "    'Neuchâtel': 'Neuchâtel',\n",
    "    'Genève': 'Genève',\n",
    "    'Jura': 'Jura',\n",
    "    'Luzern': 'Luzern',\n",
    "    'Obwalden': 'Obwalden',\n",
    "    'Nidwalden': 'Nidwalden',\n",
    "}\n",
    "\n",
    "# Create a results list for each individual canton\n",
    "results = [{'id': idx + 1, 'name': canton} for idx, canton in enumerate(canton_mapping.keys())]\n",
    "\n",
    "results"
   ]
  },
  {
   "cell_type": "code",
   "execution_count": 4,
   "metadata": {},
   "outputs": [
    {
     "name": "stderr",
     "output_type": "stream",
     "text": [
      "/var/folders/v1/5hsb0rrj4wjfjsbnzc38bkb80000gn/T/ipykernel_24188/2140810153.py:26: FionaDeprecationWarning: Use fiona.Env() instead.\n",
      "  with fiona.drivers():\n",
      "/var/folders/v1/5hsb0rrj4wjfjsbnzc38bkb80000gn/T/ipykernel_24188/2140810153.py:13: ShapelyDeprecationWarning: The 'cascaded_union()' function is deprecated. Use 'unary_union()' instead.\n",
      "  union_result = cascaded_union(shapes)\n"
     ]
    }
   ],
   "source": [
    "def to_shapely(data):\n",
    "    return shape(data['geometry'])\n",
    "\n",
    "def to_fiona(data):\n",
    "    return mapping(data)\n",
    "\n",
    "def union(target):\n",
    "    shapes = []\n",
    "    with fiona.open(fp) as src:\n",
    "        for feat in src:\n",
    "            if canton_mapping[feat['properties']['name']] == target:\n",
    "                shapes.append(to_shapely(feat).buffer(0))\n",
    "    union_result = cascaded_union(shapes)\n",
    "    # Ensure the result is a MultiPolygon\n",
    "    if union_result.geom_type == 'Polygon':\n",
    "        return MultiPolygon([union_result])\n",
    "    return union_result\n",
    "\n",
    "\n",
    "def to_file(fp=\"model_regions.geojson\"):\n",
    "    meta = {\n",
    "        'crs': {'no_defs': True, 'ellps': 'WGS84', 'datum': 'WGS84', 'proj': 'longlat'},\n",
    "        'driver': 'GeoJSON',\n",
    "        'schema': {'geometry': 'MultiPolygon', 'properties': {'name': 'str', 'id': 'int'}}\n",
    "    }\n",
    "    with fiona.drivers():\n",
    "        with fiona.open(fp, 'w', **meta) as sink:\n",
    "            for dct in results:\n",
    "                geom = union(dct['name'])\n",
    "                sink.write({\n",
    "                    'geometry': to_fiona(geom),\n",
    "                    'properties': dct\n",
    "                })\n",
    "                \n",
    "to_file()"
   ]
  },
  {
   "cell_type": "code",
   "execution_count": 6,
   "metadata": {},
   "outputs": [],
   "source": [
    "import geopandas as gpd\n",
    "import pandas as pd\n",
    "\n",
    "df_corrected_coords = pd.read_csv('Geodata/charger_data_geocoded.csv')\n",
    "\n",
    "geometry = gpd.points_from_xy(df_corrected_coords.lon, df_corrected_coords.lat)\n",
    "stations_gdf = gpd.GeoDataFrame(df_corrected_coords, geometry=geometry)\n",
    "\n",
    "# Load model regions\n",
    "regions_gdf = gpd.read_file('model_regions.geojson')"
   ]
  },
  {
   "cell_type": "code",
   "execution_count": 8,
   "metadata": {},
   "outputs": [
    {
     "name": "stderr",
     "output_type": "stream",
     "text": [
      "/Users/matis/Library/Python/3.10/lib/python/site-packages/IPython/core/interactiveshell.py:3466: FutureWarning: The `op` parameter is deprecated and will be removed in a future release. Please use the `predicate` parameter instead.\n",
      "  if await self.run_code(code, result, async_=asy):\n",
      "/var/folders/v1/5hsb0rrj4wjfjsbnzc38bkb80000gn/T/ipykernel_24188/96962583.py:1: UserWarning: CRS mismatch between the CRS of left geometries and the CRS of right geometries.\n",
      "Use `to_crs()` to reproject one of the input geometries to match the CRS of the other.\n",
      "\n",
      "Left CRS: None\n",
      "Right CRS: EPSG:4326\n",
      "\n",
      "  joined_gdf = gpd.sjoin(stations_gdf, regions_gdf, op='within')\n"
     ]
    }
   ],
   "source": [
    "joined_gdf = gpd.sjoin(stations_gdf, regions_gdf, op='within')\n",
    "joined_gdf\n",
    "\n",
    "import os\n",
    "directory = 'Geodata'\n",
    "if not os.path.exists(directory):\n",
    "    os.makedirs(directory)\n",
    "\n",
    "file_path = os.path.join(directory, 'charger_data_with_canton.csv')\n",
    "\n",
    "joined_gdf.to_csv(file_path, \n",
    "                  sep=\",\", \n",
    "                  encoding='utf-8',\n",
    "                  index=False)"
   ]
  }
 ],
 "metadata": {
  "kernelspec": {
   "display_name": "Python 3",
   "language": "python",
   "name": "python3"
  },
  "language_info": {
   "codemirror_mode": {
    "name": "ipython",
    "version": 3
   },
   "file_extension": ".py",
   "mimetype": "text/x-python",
   "name": "python",
   "nbconvert_exporter": "python",
   "pygments_lexer": "ipython3",
   "version": "3.10.8"
  }
 },
 "nbformat": 4,
 "nbformat_minor": 2
}
